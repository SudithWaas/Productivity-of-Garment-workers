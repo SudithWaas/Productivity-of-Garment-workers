{
 "cells": [
  {
   "cell_type": "code",
   "execution_count": 71,
   "metadata": {},
   "outputs": [],
   "source": [
    "import pandas as pd\n",
    "import matplotlib.pyplot as plt\n",
    "import numpy as np\n",
    "import seaborn as sns\n",
    "import warnings\n",
    "\n",
    "warnings.filterwarnings('ignore')"
   ]
  },
  {
   "cell_type": "code",
   "execution_count": 72,
   "metadata": {},
   "outputs": [],
   "source": [
    "data = pd.read_csv(r'../data/garments_worker_productivity.csv')"
   ]
  },
  {
   "cell_type": "code",
   "execution_count": 73,
   "metadata": {},
   "outputs": [
    {
     "data": {
      "text/html": [
       "<div>\n",
       "<style scoped>\n",
       "    .dataframe tbody tr th:only-of-type {\n",
       "        vertical-align: middle;\n",
       "    }\n",
       "\n",
       "    .dataframe tbody tr th {\n",
       "        vertical-align: top;\n",
       "    }\n",
       "\n",
       "    .dataframe thead th {\n",
       "        text-align: right;\n",
       "    }\n",
       "</style>\n",
       "<table border=\"1\" class=\"dataframe\">\n",
       "  <thead>\n",
       "    <tr style=\"text-align: right;\">\n",
       "      <th></th>\n",
       "      <th>date</th>\n",
       "      <th>quarter</th>\n",
       "      <th>department</th>\n",
       "      <th>day</th>\n",
       "      <th>team</th>\n",
       "      <th>targeted_productivity</th>\n",
       "      <th>smv</th>\n",
       "      <th>wip</th>\n",
       "      <th>over_time</th>\n",
       "      <th>incentive</th>\n",
       "      <th>idle_time</th>\n",
       "      <th>idle_men</th>\n",
       "      <th>no_of_style_change</th>\n",
       "      <th>no_of_workers</th>\n",
       "      <th>actual_productivity</th>\n",
       "    </tr>\n",
       "  </thead>\n",
       "  <tbody>\n",
       "    <tr>\n",
       "      <th>0</th>\n",
       "      <td>1/1/2015</td>\n",
       "      <td>Quarter1</td>\n",
       "      <td>sweing</td>\n",
       "      <td>Thursday</td>\n",
       "      <td>8</td>\n",
       "      <td>0.80</td>\n",
       "      <td>26.16</td>\n",
       "      <td>1108.0</td>\n",
       "      <td>7080</td>\n",
       "      <td>98</td>\n",
       "      <td>0.0</td>\n",
       "      <td>0</td>\n",
       "      <td>0</td>\n",
       "      <td>59.0</td>\n",
       "      <td>0.940725</td>\n",
       "    </tr>\n",
       "    <tr>\n",
       "      <th>1</th>\n",
       "      <td>1/1/2015</td>\n",
       "      <td>Quarter1</td>\n",
       "      <td>finishing</td>\n",
       "      <td>Thursday</td>\n",
       "      <td>1</td>\n",
       "      <td>0.75</td>\n",
       "      <td>3.94</td>\n",
       "      <td>NaN</td>\n",
       "      <td>960</td>\n",
       "      <td>0</td>\n",
       "      <td>0.0</td>\n",
       "      <td>0</td>\n",
       "      <td>0</td>\n",
       "      <td>8.0</td>\n",
       "      <td>0.886500</td>\n",
       "    </tr>\n",
       "    <tr>\n",
       "      <th>2</th>\n",
       "      <td>1/1/2015</td>\n",
       "      <td>Quarter1</td>\n",
       "      <td>sweing</td>\n",
       "      <td>Thursday</td>\n",
       "      <td>11</td>\n",
       "      <td>0.80</td>\n",
       "      <td>11.41</td>\n",
       "      <td>968.0</td>\n",
       "      <td>3660</td>\n",
       "      <td>50</td>\n",
       "      <td>0.0</td>\n",
       "      <td>0</td>\n",
       "      <td>0</td>\n",
       "      <td>30.5</td>\n",
       "      <td>0.800570</td>\n",
       "    </tr>\n",
       "    <tr>\n",
       "      <th>3</th>\n",
       "      <td>1/1/2015</td>\n",
       "      <td>Quarter1</td>\n",
       "      <td>sweing</td>\n",
       "      <td>Thursday</td>\n",
       "      <td>12</td>\n",
       "      <td>0.80</td>\n",
       "      <td>11.41</td>\n",
       "      <td>968.0</td>\n",
       "      <td>3660</td>\n",
       "      <td>50</td>\n",
       "      <td>0.0</td>\n",
       "      <td>0</td>\n",
       "      <td>0</td>\n",
       "      <td>30.5</td>\n",
       "      <td>0.800570</td>\n",
       "    </tr>\n",
       "    <tr>\n",
       "      <th>4</th>\n",
       "      <td>1/1/2015</td>\n",
       "      <td>Quarter1</td>\n",
       "      <td>sweing</td>\n",
       "      <td>Thursday</td>\n",
       "      <td>6</td>\n",
       "      <td>0.80</td>\n",
       "      <td>25.90</td>\n",
       "      <td>1170.0</td>\n",
       "      <td>1920</td>\n",
       "      <td>50</td>\n",
       "      <td>0.0</td>\n",
       "      <td>0</td>\n",
       "      <td>0</td>\n",
       "      <td>56.0</td>\n",
       "      <td>0.800382</td>\n",
       "    </tr>\n",
       "    <tr>\n",
       "      <th>...</th>\n",
       "      <td>...</td>\n",
       "      <td>...</td>\n",
       "      <td>...</td>\n",
       "      <td>...</td>\n",
       "      <td>...</td>\n",
       "      <td>...</td>\n",
       "      <td>...</td>\n",
       "      <td>...</td>\n",
       "      <td>...</td>\n",
       "      <td>...</td>\n",
       "      <td>...</td>\n",
       "      <td>...</td>\n",
       "      <td>...</td>\n",
       "      <td>...</td>\n",
       "      <td>...</td>\n",
       "    </tr>\n",
       "    <tr>\n",
       "      <th>1192</th>\n",
       "      <td>3/11/2015</td>\n",
       "      <td>Quarter2</td>\n",
       "      <td>finishing</td>\n",
       "      <td>Wednesday</td>\n",
       "      <td>10</td>\n",
       "      <td>0.75</td>\n",
       "      <td>2.90</td>\n",
       "      <td>NaN</td>\n",
       "      <td>960</td>\n",
       "      <td>0</td>\n",
       "      <td>0.0</td>\n",
       "      <td>0</td>\n",
       "      <td>0</td>\n",
       "      <td>8.0</td>\n",
       "      <td>0.628333</td>\n",
       "    </tr>\n",
       "    <tr>\n",
       "      <th>1193</th>\n",
       "      <td>3/11/2015</td>\n",
       "      <td>Quarter2</td>\n",
       "      <td>finishing</td>\n",
       "      <td>Wednesday</td>\n",
       "      <td>8</td>\n",
       "      <td>0.70</td>\n",
       "      <td>3.90</td>\n",
       "      <td>NaN</td>\n",
       "      <td>960</td>\n",
       "      <td>0</td>\n",
       "      <td>0.0</td>\n",
       "      <td>0</td>\n",
       "      <td>0</td>\n",
       "      <td>8.0</td>\n",
       "      <td>0.625625</td>\n",
       "    </tr>\n",
       "    <tr>\n",
       "      <th>1194</th>\n",
       "      <td>3/11/2015</td>\n",
       "      <td>Quarter2</td>\n",
       "      <td>finishing</td>\n",
       "      <td>Wednesday</td>\n",
       "      <td>7</td>\n",
       "      <td>0.65</td>\n",
       "      <td>3.90</td>\n",
       "      <td>NaN</td>\n",
       "      <td>960</td>\n",
       "      <td>0</td>\n",
       "      <td>0.0</td>\n",
       "      <td>0</td>\n",
       "      <td>0</td>\n",
       "      <td>8.0</td>\n",
       "      <td>0.625625</td>\n",
       "    </tr>\n",
       "    <tr>\n",
       "      <th>1195</th>\n",
       "      <td>3/11/2015</td>\n",
       "      <td>Quarter2</td>\n",
       "      <td>finishing</td>\n",
       "      <td>Wednesday</td>\n",
       "      <td>9</td>\n",
       "      <td>0.75</td>\n",
       "      <td>2.90</td>\n",
       "      <td>NaN</td>\n",
       "      <td>1800</td>\n",
       "      <td>0</td>\n",
       "      <td>0.0</td>\n",
       "      <td>0</td>\n",
       "      <td>0</td>\n",
       "      <td>15.0</td>\n",
       "      <td>0.505889</td>\n",
       "    </tr>\n",
       "    <tr>\n",
       "      <th>1196</th>\n",
       "      <td>3/11/2015</td>\n",
       "      <td>Quarter2</td>\n",
       "      <td>finishing</td>\n",
       "      <td>Wednesday</td>\n",
       "      <td>6</td>\n",
       "      <td>0.70</td>\n",
       "      <td>2.90</td>\n",
       "      <td>NaN</td>\n",
       "      <td>720</td>\n",
       "      <td>0</td>\n",
       "      <td>0.0</td>\n",
       "      <td>0</td>\n",
       "      <td>0</td>\n",
       "      <td>6.0</td>\n",
       "      <td>0.394722</td>\n",
       "    </tr>\n",
       "  </tbody>\n",
       "</table>\n",
       "<p>1197 rows × 15 columns</p>\n",
       "</div>"
      ],
      "text/plain": [
       "           date   quarter  department        day  team  targeted_productivity  \\\n",
       "0      1/1/2015  Quarter1      sweing   Thursday     8                   0.80   \n",
       "1      1/1/2015  Quarter1  finishing    Thursday     1                   0.75   \n",
       "2      1/1/2015  Quarter1      sweing   Thursday    11                   0.80   \n",
       "3      1/1/2015  Quarter1      sweing   Thursday    12                   0.80   \n",
       "4      1/1/2015  Quarter1      sweing   Thursday     6                   0.80   \n",
       "...         ...       ...         ...        ...   ...                    ...   \n",
       "1192  3/11/2015  Quarter2   finishing  Wednesday    10                   0.75   \n",
       "1193  3/11/2015  Quarter2   finishing  Wednesday     8                   0.70   \n",
       "1194  3/11/2015  Quarter2   finishing  Wednesday     7                   0.65   \n",
       "1195  3/11/2015  Quarter2   finishing  Wednesday     9                   0.75   \n",
       "1196  3/11/2015  Quarter2   finishing  Wednesday     6                   0.70   \n",
       "\n",
       "        smv     wip  over_time  incentive  idle_time  idle_men  \\\n",
       "0     26.16  1108.0       7080         98        0.0         0   \n",
       "1      3.94     NaN        960          0        0.0         0   \n",
       "2     11.41   968.0       3660         50        0.0         0   \n",
       "3     11.41   968.0       3660         50        0.0         0   \n",
       "4     25.90  1170.0       1920         50        0.0         0   \n",
       "...     ...     ...        ...        ...        ...       ...   \n",
       "1192   2.90     NaN        960          0        0.0         0   \n",
       "1193   3.90     NaN        960          0        0.0         0   \n",
       "1194   3.90     NaN        960          0        0.0         0   \n",
       "1195   2.90     NaN       1800          0        0.0         0   \n",
       "1196   2.90     NaN        720          0        0.0         0   \n",
       "\n",
       "      no_of_style_change  no_of_workers  actual_productivity  \n",
       "0                      0           59.0             0.940725  \n",
       "1                      0            8.0             0.886500  \n",
       "2                      0           30.5             0.800570  \n",
       "3                      0           30.5             0.800570  \n",
       "4                      0           56.0             0.800382  \n",
       "...                  ...            ...                  ...  \n",
       "1192                   0            8.0             0.628333  \n",
       "1193                   0            8.0             0.625625  \n",
       "1194                   0            8.0             0.625625  \n",
       "1195                   0           15.0             0.505889  \n",
       "1196                   0            6.0             0.394722  \n",
       "\n",
       "[1197 rows x 15 columns]"
      ]
     },
     "execution_count": 73,
     "metadata": {},
     "output_type": "execute_result"
    }
   ],
   "source": [
    "data"
   ]
  },
  {
   "cell_type": "code",
   "execution_count": 74,
   "metadata": {},
   "outputs": [
    {
     "name": "stdout",
     "output_type": "stream",
     "text": [
      "<class 'pandas.core.frame.DataFrame'>\n",
      "RangeIndex: 1197 entries, 0 to 1196\n",
      "Data columns (total 15 columns):\n",
      " #   Column                 Non-Null Count  Dtype  \n",
      "---  ------                 --------------  -----  \n",
      " 0   date                   1197 non-null   object \n",
      " 1   quarter                1197 non-null   object \n",
      " 2   department             1197 non-null   object \n",
      " 3   day                    1197 non-null   object \n",
      " 4   team                   1197 non-null   object \n",
      " 5   targeted_productivity  1197 non-null   float64\n",
      " 6   smv                    1197 non-null   float64\n",
      " 7   wip                    1197 non-null   float64\n",
      " 8   over_time              1197 non-null   int64  \n",
      " 9   incentive              1197 non-null   int64  \n",
      " 10  idle_time              1197 non-null   float64\n",
      " 11  idle_men               1197 non-null   int64  \n",
      " 12  no_of_style_change     1197 non-null   object \n",
      " 13  no_of_workers          1197 non-null   int64  \n",
      " 14  actual_productivity    1197 non-null   float64\n",
      "dtypes: float64(5), int64(4), object(6)\n",
      "memory usage: 140.4+ KB\n"
     ]
    }
   ],
   "source": [
    "data['no_of_style_change'] = data['no_of_style_change'].astype(str)\n",
    "data['team'] = data['team'].astype(str)\n",
    "data = data.replace(['finishing '], ['finishing']) \n",
    "data = data.replace(['sweing'], ['sewing']) \n",
    "data['wip'].fillna(0 ,inplace=True)\n",
    "data['no_of_workers'] = data['no_of_workers'].apply(lambda x: int(x))\n",
    "\n",
    "data.loc[data['targeted_productivity'] == 0.07, 'targeted_productivity'] = 0.7\n",
    "data.loc[data['no_of_workers'] == 89, 'no_of_workers'] = 35\n",
    "\n",
    "data.info()"
   ]
  },
  {
   "cell_type": "code",
   "execution_count": 75,
   "metadata": {},
   "outputs": [],
   "source": [
    "# # zero count in the numerical features\n",
    "# # data['no_of_style_change'] = data['no_of_style_change'].astype(str)\n",
    "\n",
    "# numerical = ['targeted_productivity', 'std_minute_value', 'work_in_progress', 'over_time', 'incentive', 'idle_time', 'idle_men',  'no_of_workers', 'actual_productivity']\n",
    "# zero_count = [len(data[data['targeted_productivity'] == 0]),\n",
    "#               len(data[data['std_minute_value'] == 0]),\n",
    "#               len(data[data['work_in_progress'] == 0]), \n",
    "#               len(data[data['over_time'] == 0]), \n",
    "#               len(data[data['incentive'] == 0]), \n",
    "#               len(data[data['idle_time'] == 0]), \n",
    "#               len(data[data['idle_men'] == 0]), \n",
    "#               len(data[data['no_of_workers'] == 0]), \n",
    "#               len(data[data['actual_productivity'] == 0])]\n",
    "\n",
    "# dict = {\"numerical_feature\": numerical, \"zero_count\": zero_count}\n",
    "# zero_count_dataset = pd.DataFrame(dict)\n",
    "\n",
    "# zero_count_dataset['zero_percentatge'] = zero_count_dataset['zero_count'] / len(data) * 100\n",
    "# zero_count_dataset"
   ]
  },
  {
   "cell_type": "code",
   "execution_count": 76,
   "metadata": {},
   "outputs": [],
   "source": [
    "data = data.drop(['date'], axis = 1)"
   ]
  },
  {
   "cell_type": "code",
   "execution_count": 77,
   "metadata": {},
   "outputs": [
    {
     "data": {
      "image/png": "[encoded data removed]",
      "text/plain": [
       "<Figure size 640x480 with 2 Axes>"
      ]
     },
     "metadata": {},
     "output_type": "display_data"
    }
   ],
   "source": [
    "numerical = [feature for feature in data.columns if data[feature].dtype != 'O']\n",
    "categorical = [feature for feature in data.columns if data[feature].dtype == 'O']\n",
    "\n",
    "mask = np.triu(np.ones_like(data[numerical].corr(method = 'spearman'), dtype=bool))\n",
    "\n",
    "dataplot = sns.heatmap(data[numerical].corr(method = 'spearman'),cmap = 'coolwarm', \n",
    "                       vmin = -1, vmax = 1, center = 0, annot = True, fmt=\".2f\", \n",
    "                       square=True, linewidths = 0.5, mask = mask)\n",
    "  \n",
    "# displaying heatmap \n",
    "plt.show()"
   ]
  },
  {
   "cell_type": "code",
   "execution_count": 78,
   "metadata": {},
   "outputs": [
    {
     "data": {
      "text/plain": [
       "Index(['quarter', 'department', 'day', 'team', 'targeted_productivity', 'smv',\n",
       "       'wip', 'over_time', 'incentive', 'idle_time', 'idle_men',\n",
       "       'no_of_style_change', 'no_of_workers', 'actual_productivity'],\n",
       "      dtype='object')"
      ]
     },
     "execution_count": 78,
     "metadata": {},
     "output_type": "execute_result"
    }
   ],
   "source": [
    "data.columns"
   ]
  },
  {
   "cell_type": "code",
   "execution_count": 79,
   "metadata": {},
   "outputs": [
    {
     "name": "stdout",
     "output_type": "stream",
     "text": [
      "<class 'pandas.core.frame.DataFrame'>\n",
      "RangeIndex: 1197 entries, 0 to 1196\n",
      "Data columns (total 14 columns):\n",
      " #   Column                 Non-Null Count  Dtype  \n",
      "---  ------                 --------------  -----  \n",
      " 0   quarter                1197 non-null   object \n",
      " 1   department             1197 non-null   object \n",
      " 2   day                    1197 non-null   object \n",
      " 3   team                   1197 non-null   object \n",
      " 4   targeted_productivity  1197 non-null   float64\n",
      " 5   smv                    1197 non-null   float64\n",
      " 6   wip                    1197 non-null   float64\n",
      " 7   over_time              1197 non-null   int64  \n",
      " 8   incentive              1197 non-null   int64  \n",
      " 9   idle_time              1197 non-null   float64\n",
      " 10  idle_men               1197 non-null   int64  \n",
      " 11  no_of_style_change     1197 non-null   object \n",
      " 12  no_of_workers          1197 non-null   int64  \n",
      " 13  actual_productivity    1197 non-null   float64\n",
      "dtypes: float64(5), int64(4), object(5)\n",
      "memory usage: 131.0+ KB\n"
     ]
    }
   ],
   "source": [
    "data.info()"
   ]
  },
  {
   "cell_type": "markdown",
   "metadata": {},
   "source": [
    "## Neural Network"
   ]
  },
  {
   "cell_type": "code",
   "execution_count": 80,
   "metadata": {},
   "outputs": [],
   "source": [
    "import torch\n",
    "import torch.nn as nn\n",
    "import torch.optim as optim\n",
    "import pandas as pd\n",
    "from sklearn.model_selection import train_test_split\n",
    "from sklearn.preprocessing import LabelEncoder, StandardScaler, MinMaxScaler\n",
    "from sklearn.preprocessing import OneHotEncoder\n",
    "from torch.utils.data import TensorDataset, DataLoader"
   ]
  },
  {
   "cell_type": "code",
   "execution_count": 81,
   "metadata": {},
   "outputs": [
    {
     "name": "stdout",
     "output_type": "stream",
     "text": [
      "<class 'pandas.core.frame.DataFrame'>\n",
      "RangeIndex: 1197 entries, 0 to 1196\n",
      "Data columns (total 14 columns):\n",
      " #   Column                 Non-Null Count  Dtype  \n",
      "---  ------                 --------------  -----  \n",
      " 0   quarter                1197 non-null   object \n",
      " 1   department             1197 non-null   object \n",
      " 2   day                    1197 non-null   object \n",
      " 3   team                   1197 non-null   object \n",
      " 4   targeted_productivity  1197 non-null   float64\n",
      " 5   smv                    1197 non-null   float64\n",
      " 6   wip                    1197 non-null   float64\n",
      " 7   over_time              1197 non-null   int64  \n",
      " 8   incentive              1197 non-null   int64  \n",
      " 9   idle_time              1197 non-null   float64\n",
      " 10  idle_men               1197 non-null   int64  \n",
      " 11  no_of_style_change     1197 non-null   object \n",
      " 12  no_of_workers          1197 non-null   int64  \n",
      " 13  actual_productivity    1197 non-null   float64\n",
      "dtypes: float64(5), int64(4), object(5)\n",
      "memory usage: 131.0+ KB\n"
     ]
    }
   ],
   "source": [
    "data.info()"
   ]
  },
  {
   "cell_type": "code",
   "execution_count": 82,
   "metadata": {},
   "outputs": [
    {
     "data": {
      "text/plain": [
       "<torch._C.Generator at 0x1f1c8643bd0>"
      ]
     },
     "execution_count": 82,
     "metadata": {},
     "output_type": "execute_result"
    }
   ],
   "source": [
    "torch.manual_seed(42)"
   ]
  },
  {
   "cell_type": "code",
   "execution_count": 83,
   "metadata": {},
   "outputs": [],
   "source": [
    "# categorical_cols = ['day', 'quarter', 'department', 'team']\n",
    "# numerical_cols = ['no_of_workers', 'no_of_style_change','targeted_productivity', 'smv', 'wip', 'over_time', 'incentive', 'idle_time', 'idle_men']\n",
    "\n",
    "# One-hot encode categorical columns\n",
    "encoder = OneHotEncoder(sparse_output=False)\n",
    "categorical_data = encoder.fit_transform(data[categorical])\n",
    "\n",
    "# Scale numerical columns\n",
    "scaler = MinMaxScaler()\n",
    "numerical_data = scaler.fit_transform(data[numerical])\n",
    "\n",
    "# Combine encoded categorical and scaled numerical data\n",
    "X = np.concatenate([categorical_data, numerical_data], axis=1)\n",
    "y = data['actual_productivity']\n",
    "\n",
    "# Feature scaling\n",
    "scaler = MinMaxScaler()\n",
    "X_scaled = scaler.fit_transform(X)\n",
    "\n",
    "# Split data into training, validation, and testing sets\n",
    "X_train, X_temp, y_train, y_temp = train_test_split(X_scaled, y, test_size=0.2, random_state=42)\n",
    "X_val, X_test, y_val, y_test = train_test_split(X_temp, y_temp, test_size=0.5, random_state=42) \n"
   ]
  },
  {
   "cell_type": "code",
   "execution_count": 84,
   "metadata": {},
   "outputs": [
    {
     "data": {
      "text/plain": [
       "array([1.        , 0.        , 0.        , 0.        , 0.        ,\n",
       "       1.        , 0.        , 0.        , 0.        , 0.        ,\n",
       "       1.        , 0.        , 0.        , 1.        , 0.        ,\n",
       "       0.        , 0.        , 0.        , 0.        , 0.        ,\n",
       "       0.        , 0.        , 0.        , 0.        , 0.        ,\n",
       "       1.        , 0.        , 0.        , 0.88888889, 0.02013163,\n",
       "       0.        , 0.03703704, 0.        , 0.        , 0.        ,\n",
       "       0.10344828, 0.73618016])"
      ]
     },
     "execution_count": 84,
     "metadata": {},
     "output_type": "execute_result"
    }
   ],
   "source": [
    "X[1]"
   ]
  },
  {
   "cell_type": "code",
   "execution_count": 85,
   "metadata": {},
   "outputs": [],
   "source": [
    "# Convert to PyTorch tensors\n",
    "X_train_tensor = torch.tensor(X_train, dtype=torch.float32)\n",
    "y_train_tensor = torch.tensor(y_train.values, dtype=torch.float32)\n",
    "X_val_tensor = torch.tensor(X_val, dtype=torch.float32)\n",
    "y_val_tensor = torch.tensor(y_val.values, dtype=torch.float32)\n",
    "X_test_tensor = torch.tensor(X_test, dtype=torch.float32)\n",
    "y_test_tensor = torch.tensor(y_test.values, dtype=torch.float32)\n",
    "\n",
    "# Create datasets\n",
    "train_dataset = TensorDataset(X_train_tensor, y_train_tensor)\n",
    "val_dataset = TensorDataset(X_val_tensor, y_val_tensor)\n",
    "test_dataset = TensorDataset(X_test_tensor, y_test_tensor)\n",
    "\n",
    "# Create data loaders\n",
    "train_loader = DataLoader(train_dataset, batch_size=32, shuffle=True)\n",
    "val_loader = DataLoader(val_dataset, batch_size=32, shuffle=False)\n",
    "test_loader = DataLoader(test_dataset, batch_size=32, shuffle=False)\n"
   ]
  },
  {
   "cell_type": "code",
   "execution_count": 86,
   "metadata": {},
   "outputs": [
    {
     "data": {
      "text/plain": [
       "37"
      ]
     },
     "execution_count": 86,
     "metadata": {},
     "output_type": "execute_result"
    }
   ],
   "source": [
    "X_train.shape[1]"
   ]
  },
  {
   "cell_type": "code",
   "execution_count": 87,
   "metadata": {},
   "outputs": [],
   "source": [
    "class GarmentProductivityModel(nn.Module):\n",
    "    def __init__(self, input_size, hidden_size_1, hidden_size_2, output_size):\n",
    "        super().__init__()\n",
    "        self.fc1 = nn.Linear(input_size, hidden_size_1)\n",
    "        self.relu = nn.ReLU()\n",
    "        self.dropout1 = nn.Dropout(0.2)  \n",
    "        self.fc2 = nn.Linear(hidden_size_1, hidden_size_2)\n",
    "        self.dropout2 = nn.Dropout(0.2)  \n",
    "        self.fc3 = nn.Linear(hidden_size_2, output_size)\n",
    "\n",
    "    def forward(self, x):\n",
    "        x = self.fc1(x)\n",
    "        x = self.relu(x)\n",
    "        x = self.dropout1(x)\n",
    "        x = self.fc2(x)\n",
    "        x = self.relu(x)\n",
    "        x = self.dropout2(x)\n",
    "        x = self.fc3(x)\n",
    "        return x\n",
    "\n",
    "# Hyperparameters\n",
    "input_size = X_train.shape[1]   # 37\n",
    "hidden_size_1 = 64\n",
    "hidden_size_2 = 32\n",
    "output_size = 1\n",
    "learning_rate = 0.001\n",
    "num_epochs = 50\n",
    "\n",
    "# Create model instance\n",
    "model = GarmentProductivityModel(input_size, hidden_size_1, hidden_size_2, output_size)\n",
    "\n",
    "# Loss function and optimizer\n",
    "criterion = nn.MSELoss()\n",
    "optimizer = optim.Adam(model.parameters(), lr=learning_rate)\n"
   ]
  },
  {
   "cell_type": "code",
   "execution_count": 88,
   "metadata": {},
   "outputs": [
    {
     "name": "stdout",
     "output_type": "stream",
     "text": [
      "Epoch [1/50], Train Loss: 0.1790, Val Loss: 0.0490\n",
      "Epoch [2/50], Train Loss: 0.0435, Val Loss: 0.0429\n",
      "Epoch [3/50], Train Loss: 0.0325, Val Loss: 0.0447\n",
      "Epoch [4/50], Train Loss: 0.0295, Val Loss: 0.0443\n",
      "Epoch [5/50], Train Loss: 0.0254, Val Loss: 0.0459\n",
      "Epoch [6/50], Train Loss: 0.0212, Val Loss: 0.0471\n",
      "Epoch [7/50], Train Loss: 0.0186, Val Loss: 0.0460\n",
      "Epoch [8/50], Train Loss: 0.0170, Val Loss: 0.0483\n",
      "Epoch [9/50], Train Loss: 0.0148, Val Loss: 0.0510\n",
      "Epoch [10/50], Train Loss: 0.0143, Val Loss: 0.0556\n",
      "Epoch [11/50], Train Loss: 0.0139, Val Loss: 0.0514\n",
      "Epoch [12/50], Train Loss: 0.0119, Val Loss: 0.0542\n",
      "Epoch [13/50], Train Loss: 0.0121, Val Loss: 0.0486\n",
      "Epoch [14/50], Train Loss: 0.0110, Val Loss: 0.0527\n",
      "Epoch [15/50], Train Loss: 0.0098, Val Loss: 0.0501\n",
      "Epoch [16/50], Train Loss: 0.0111, Val Loss: 0.0478\n",
      "Epoch [17/50], Train Loss: 0.0108, Val Loss: 0.0508\n",
      "Epoch [18/50], Train Loss: 0.0092, Val Loss: 0.0498\n",
      "Epoch [19/50], Train Loss: 0.0090, Val Loss: 0.0485\n",
      "Epoch [20/50], Train Loss: 0.0097, Val Loss: 0.0545\n",
      "Epoch [21/50], Train Loss: 0.0098, Val Loss: 0.0511\n",
      "Epoch [22/50], Train Loss: 0.0085, Val Loss: 0.0533\n",
      "Epoch [23/50], Train Loss: 0.0082, Val Loss: 0.0490\n",
      "Epoch [24/50], Train Loss: 0.0078, Val Loss: 0.0441\n",
      "Epoch [25/50], Train Loss: 0.0078, Val Loss: 0.0480\n",
      "Epoch [26/50], Train Loss: 0.0079, Val Loss: 0.0501\n",
      "Epoch [27/50], Train Loss: 0.0080, Val Loss: 0.0465\n",
      "Epoch [28/50], Train Loss: 0.0073, Val Loss: 0.0489\n",
      "Epoch [29/50], Train Loss: 0.0073, Val Loss: 0.0481\n",
      "Epoch [30/50], Train Loss: 0.0066, Val Loss: 0.0511\n",
      "Epoch [31/50], Train Loss: 0.0074, Val Loss: 0.0499\n",
      "Epoch [32/50], Train Loss: 0.0071, Val Loss: 0.0484\n",
      "Epoch [33/50], Train Loss: 0.0071, Val Loss: 0.0494\n",
      "Epoch [34/50], Train Loss: 0.0065, Val Loss: 0.0518\n",
      "Epoch [35/50], Train Loss: 0.0067, Val Loss: 0.0483\n",
      "Epoch [36/50], Train Loss: 0.0063, Val Loss: 0.0449\n",
      "Epoch [37/50], Train Loss: 0.0065, Val Loss: 0.0492\n",
      "Epoch [38/50], Train Loss: 0.0065, Val Loss: 0.0521\n",
      "Epoch [39/50], Train Loss: 0.0058, Val Loss: 0.0516\n",
      "Epoch [40/50], Train Loss: 0.0056, Val Loss: 0.0497\n",
      "Epoch [41/50], Train Loss: 0.0056, Val Loss: 0.0452\n",
      "Epoch [42/50], Train Loss: 0.0057, Val Loss: 0.0440\n",
      "Epoch [43/50], Train Loss: 0.0056, Val Loss: 0.0467\n",
      "Epoch [44/50], Train Loss: 0.0054, Val Loss: 0.0485\n",
      "Epoch [45/50], Train Loss: 0.0054, Val Loss: 0.0467\n",
      "Epoch [46/50], Train Loss: 0.0055, Val Loss: 0.0484\n",
      "Epoch [47/50], Train Loss: 0.0050, Val Loss: 0.0476\n",
      "Epoch [48/50], Train Loss: 0.0045, Val Loss: 0.0498\n",
      "Epoch [49/50], Train Loss: 0.0052, Val Loss: 0.0471\n",
      "Epoch [50/50], Train Loss: 0.0045, Val Loss: 0.0487\n",
      "Test Loss: 0.0582\n"
     ]
    }
   ],
   "source": [
    "train_losses = []\n",
    "val_losses = []\n",
    "test_losses = []\n",
    "\n",
    "for epoch in range(num_epochs):\n",
    "    running_loss = 0.0\n",
    "    for i, (inputs, labels) in enumerate(train_loader):\n",
    "        optimizer.zero_grad()\n",
    "        outputs = model(inputs)\n",
    "\n",
    "        # Reshape labels to match the output shape\n",
    "        labels = labels.view(-1, 1)\n",
    "        loss = criterion(outputs, labels)\n",
    "        loss.backward()\n",
    "        optimizer.step()\n",
    "        running_loss += loss.item() * inputs.size(0)\n",
    "\n",
    "    train_loss = running_loss / len(train_loader.dataset)\n",
    "    train_losses.append(train_loss)\n",
    "\n",
    "    # Validation\n",
    "    val_loss = 0.0\n",
    "    with torch.no_grad():\n",
    "        for inputs, labels in val_loader:\n",
    "            outputs = model(inputs)\n",
    "            loss = criterion(outputs, labels)\n",
    "            val_loss += loss.item() * inputs.size(0)\n",
    "\n",
    "    val_loss /= len(val_loader.dataset)\n",
    "    val_losses.append(val_loss)\n",
    "\n",
    "    # Print or log the average training and validation loss for this epoch\n",
    "    print(f\"Epoch [{epoch+1}/{num_epochs}], Train Loss: {train_loss:.4f}, Val Loss: {val_loss:.4f}\")\n",
    "\n",
    "#Test\n",
    "test_loss = 0.0\n",
    "with torch.no_grad():\n",
    "    for inputs, labels in test_loader:\n",
    "        outputs = model(inputs)\n",
    "        loss = criterion(outputs, labels)\n",
    "        test_loss += loss.item() * inputs.size(0)\n",
    "\n",
    "test_loss /= len(test_loader.dataset)\n",
    "test_losses.append(test_loss)\n",
    "print(f\"Test Loss: {test_loss:.4f}\")\n"
   ]
  },
  {
   "cell_type": "code",
   "execution_count": 89,
   "metadata": {},
   "outputs": [
    {
     "name": "stdout",
     "output_type": "stream",
     "text": [
      "Test Loss: 0.0565\n"
     ]
    }
   ],
   "source": [
    "with torch.no_grad():\n",
    "    test_loss = 0\n",
    "    for inputs, labels in test_loader:\n",
    "        outputs = model(inputs)\n",
    "        test_loss += criterion(outputs, labels).item() * inputs.size(0)\n",
    "    test_loss /= len(test_loader.dataset)\n",
    "    test_losses.append(test_loss)\n",
    "    print(f\"Test Loss: {test_loss:.4f}\")\n"
   ]
  },
  {
   "cell_type": "code",
   "execution_count": 90,
   "metadata": {},
   "outputs": [
    {
     "name": "stdout",
     "output_type": "stream",
     "text": [
      "RMSE: 0.057006947696208954\n",
      "MAE: 0.04407535493373871\n",
      "R-squared: 0.8858765363693237\n"
     ]
    }
   ],
   "source": [
    "# Make predictions on the test set\n",
    "y_pred = model(X_test_tensor).squeeze(1)\n",
    "\n",
    "# Calculate RMSE and MAE\n",
    "def rmse(y_true, y_pred):\n",
    "  return torch.sqrt(torch.mean((y_true - y_pred) ** 2))\n",
    "\n",
    "def mae(y_true, y_pred):\n",
    "  return torch.mean(torch.abs(y_true - y_pred))\n",
    "\n",
    "def r2_score(y_true, y_pred):\n",
    "  mean_y_true = torch.mean(y_true)\n",
    "  ss_tot = torch.sum((y_true - mean_y_true) ** 2)\n",
    "  ss_res = torch.sum((y_true - y_pred) ** 2)\n",
    "  r2 = 1 - (ss_res / ss_tot)\n",
    "  return r2.item()\n",
    "\n",
    "rmse_val = rmse(y_test_tensor, y_pred)\n",
    "mae_val = mae(y_test_tensor, y_pred)\n",
    "r2_val = r2_score(y_test_tensor, y_pred)\n",
    "\n",
    "print(\"RMSE:\", rmse_val.item())\n",
    "print(\"MAE:\", mae_val.item())\n",
    "print(\"R-squared:\", r2_val)"
   ]
  },
  {
   "cell_type": "code",
   "execution_count": 91,
   "metadata": {},
   "outputs": [
    {
     "data": {
      "text/plain": [
       "torch.Size([120])"
      ]
     },
     "execution_count": 91,
     "metadata": {},
     "output_type": "execute_result"
    }
   ],
   "source": [
    "y_test_tensor.shape"
   ]
  },
  {
   "cell_type": "code",
   "execution_count": 92,
   "metadata": {},
   "outputs": [
    {
     "data": {
      "text/plain": [
       "tensor([0.8169, 0.7710, 0.6726, 0.8274, 0.7648, 0.8266, 1.0388, 0.7218, 0.7872,\n",
       "        0.7216, 0.7514, 0.3649, 0.6349, 0.6587, 1.0499, 0.4921, 0.4066, 0.9101,\n",
       "        0.7928, 0.7372, 0.8754, 0.7614, 0.7310, 0.9742, 0.8182, 0.8721, 0.6618,\n",
       "        0.9227, 0.9782, 0.5238, 0.8300, 0.6517, 0.4713, 0.6055, 0.6603, 0.5080,\n",
       "        0.6772, 0.5086, 0.8098, 0.7922, 0.9746, 0.7709, 0.9262, 1.0476, 0.7895,\n",
       "        0.8216, 0.7091, 0.7769, 0.7611, 0.6800, 0.3136, 0.7209, 0.3836, 0.7923,\n",
       "        0.7464, 0.6797, 0.5908, 0.8935, 0.7302, 0.4371, 0.7148, 0.8376, 0.5369,\n",
       "        0.9546, 0.7996, 0.4865, 0.7535, 0.7994, 0.7944, 0.8459, 0.5339, 0.9832,\n",
       "        0.5318, 0.7206, 0.5193, 0.7894, 0.8113, 0.3635, 0.8477, 0.8266, 0.9301,\n",
       "        0.4314, 0.5813, 0.7057, 0.8207, 0.7720, 0.9092, 0.6176, 0.4670, 0.6318,\n",
       "        0.4442, 0.3486, 0.5299, 0.8423, 0.6270, 0.6742, 0.6832, 0.7623, 0.7595,\n",
       "        0.3390, 0.8937, 0.8383, 0.9565, 0.9807, 0.8132, 0.7048, 0.6891, 0.3924,\n",
       "        0.7384, 0.6382, 0.4321, 0.7539, 0.4360, 0.6708, 0.6250, 0.5418, 0.8181,\n",
       "        0.7377, 1.0322, 0.6530], grad_fn=<SqueezeBackward1>)"
      ]
     },
     "execution_count": 92,
     "metadata": {},
     "output_type": "execute_result"
    }
   ],
   "source": [
    "y_pred"
   ]
  },
  {
   "cell_type": "code",
   "execution_count": 93,
   "metadata": {},
   "outputs": [
    {
     "data": {
      "image/png": "[encoded data removed]",
      "text/plain": [
       "<Figure size 640x480 with 1 Axes>"
      ]
     },
     "metadata": {},
     "output_type": "display_data"
    }
   ],
   "source": [
    "plt.plot(train_losses, label='Train Loss')\n",
    "plt.plot(val_losses, label='Validation Loss')\n",
    "# plt.plot(test_loss, label='Test Loss')  # Plot test loss as a point\n",
    "plt.xlabel('Epoch')\n",
    "plt.ylabel('Loss')\n",
    "plt.title('Training and Validation loss')\n",
    "plt.legend()\n",
    "plt.show()"
   ]
  },
  {
   "cell_type": "markdown",
   "metadata": {},
   "source": [
    "### Save the Model"
   ]
  },
  {
   "cell_type": "code",
   "execution_count": 94,
   "metadata": {},
   "outputs": [],
   "source": [
    "torch.save(model.state_dict(), '../nn_model/garment_nn_model_1.pt')"
   ]
  },
  {
   "cell_type": "markdown",
   "metadata": {},
   "source": [
    "### Load the model"
   ]
  },
  {
   "cell_type": "code",
   "execution_count": 95,
   "metadata": {},
   "outputs": [
    {
     "data": {
      "text/plain": [
       "<All keys matched successfully>"
      ]
     },
     "execution_count": 95,
     "metadata": {},
     "output_type": "execute_result"
    }
   ],
   "source": [
    "# Load the Saved Model\n",
    "load_model = GarmentProductivityModel(input_size, hidden_size_1, hidden_size_2, output_size)\n",
    "load_model.load_state_dict(torch.load('../nn_model/garment_nn_model_1.pt'))"
   ]
  },
  {
   "cell_type": "code",
   "execution_count": 96,
   "metadata": {},
   "outputs": [
    {
     "data": {
      "text/plain": [
       "GarmentProductivityModel(\n",
       "  (fc1): Linear(in_features=37, out_features=64, bias=True)\n",
       "  (relu): ReLU()\n",
       "  (dropout1): Dropout(p=0.2, inplace=False)\n",
       "  (fc2): Linear(in_features=64, out_features=32, bias=True)\n",
       "  (dropout2): Dropout(p=0.2, inplace=False)\n",
       "  (fc3): Linear(in_features=32, out_features=1, bias=True)\n",
       ")"
      ]
     },
     "execution_count": 96,
     "metadata": {},
     "output_type": "execute_result"
    }
   ],
   "source": [
    "# Make sure it loaded correctly\n",
    "load_model.eval()"
   ]
  },
  {
   "cell_type": "code",
   "execution_count": 97,
   "metadata": {},
   "outputs": [],
   "source": [
    "# Quarter1, sewing, Thursday, 0.80, 26.16, 1108.0, 7080.0, 98.000000, 0.0, 0, 0, 59        # 0.940725"
   ]
  },
  {
   "cell_type": "code",
   "execution_count": 98,
   "metadata": {},
   "outputs": [],
   "source": [
    "new_data = torch.tensor(X[0], dtype=torch.float32)"
   ]
  },
  {
   "cell_type": "code",
   "execution_count": 99,
   "metadata": {},
   "outputs": [
    {
     "name": "stdout",
     "output_type": "stream",
     "text": [
      "Predicted productivity: 0.9154400825500488\n"
     ]
    }
   ],
   "source": [
    "with torch.no_grad():\n",
    "    predicted_productivity = load_model(new_data)\n",
    "\n",
    "print(\"Predicted productivity:\", predicted_productivity.item())"
   ]
  }
 ],
 "metadata": {
  "kernelspec": {
   "display_name": "test_env",
   "language": "python",
   "name": "python3"
  },
  "language_info": {
   "codemirror_mode": {
    "name": "ipython",
    "version": 3
   },
   "file_extension": ".py",
   "mimetype": "text/x-python",
   "name": "python",
   "nbconvert_exporter": "python",
   "pygments_lexer": "ipython3",
   "version": "3.8.18"
  }
 },
 "nbformat": 4,
 "nbformat_minor": 2
}
